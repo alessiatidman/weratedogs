{
 "cells": [
  {
   "cell_type": "markdown",
   "metadata": {},
   "source": [
    "# Wrangle Report\n",
    "\n",
    "The goal of this project was to wrangle WeRateDogs Twitter data to be able to create interesting and trustworthy analyses and visualisations. The twitter archive for WeRateDogs contained only basic information, so additional gathering was done to be able to draw more insights.\n",
    "\n",
    "### Gathering\n",
    "For this project, I gathered data from three sources:\n",
    "* Twitter Archive - this was given in csv format and had to manually downloaded then read using pandas `.read_csv` function.\n",
    "* Image Predictions - this was given in tsv format. For this I had to use Python's `requests` package to retrieve the .tsv file then use `.read_csv` with `sep = \"\\t\"` to load into the notebook.\n",
    "* Additional Data via Twitter API - I had to require access to be able to access Twitter's API to be able to make my code work. Using the `tweet_id` from our twitter archive dataframe, I gathered the JSON data for each tweet and then loaded it into a file `tweet_json.txt`. I then accessed this file and loaded into into a pandas dataframe.\n",
    "\n",
    "### Assessing\n",
    "\n",
    "To access the data, I looked at each dataframe individually to find any quality or tidiness issues starting with the `twitter_archive` first.\n",
    "\n",
    "#### Twitter Archive\n",
    "\n",
    "Using `.info`, I saw that columns related to retweets and replies were mostly made up null values and the non-null values represent retweets or replies. As we were concerned with only original tweets, the non-null entries needed to be dropped. Dropping these entries would mean that we would now have a tidiness issue as all the values in these columns were null so they can be dropped.\n",
    "\n",
    "Still looking at the information provided by `.info`, I could also see that there was missing data in `expanded_urls` column which may be linked to retweets and reply entries. Also `timestamp` was the wrong datatype which would need changing.\n",
    "\n",
    "Using `.head`, there were four columns describing various dog stages which is a tidiness issue. This can be resolved by melting these columns into one.\n",
    "\n",
    "Moreover, when looking at `rating_denominator` there were a few extreme results and looked as though the denominator should be 10. By dropping all the results not equal to 10 this also meant we could drop this column.\n",
    "\n",
    "Similarly looking at `rating_numerator`, it was not unusual for results to be higher than 10 however looking at the spread of ratings it looked like anything greater than 14 could be removed.\n",
    "\n",
    "There were some instances where the `name` column included regular words (inclduing the word none). As these aren't proper names they would need to be converted to null values. \n",
    "\n",
    "The `source` column included a lot of html which made looking at the dataframe hard due to it taking up a lot of room. When extracting what was between the html code, there were only 4 different sources. \n",
    "\n",
    "#### Image Predictions\n",
    "\n",
    "This dataframe had 281 less entries then the archive. There were several cases where no dog breed was predicted, however this issue was not cleaned as part of this project. The only amendment was to join it to `twitter_archive`.\n",
    "\n",
    "#### JSON Tweet File\n",
    "\n",
    "This data was not cleaned either for quality issues and was joined with the other two dataframes to make it tidy.\n",
    "\n",
    "### Cleaning\n",
    "\n",
    "Before cleaning, copies were made of all three dataframes: `archive_clean`, `predictions_clean` and `json_clean`. For each quality and tidiness issue, I performed the cleaning in three stages for each:\n",
    "* Define\n",
    "* Code\n",
    "* Test\n",
    "\n",
    "### Storing\n",
    "\n",
    "After the cleaning process was done, I stored the master dataframe `df` into a `.csv` file calles `twitter_archive_master.csv`."
   ]
  }
 ],
 "metadata": {
  "kernelspec": {
   "display_name": "Python 3",
   "language": "python",
   "name": "python3"
  },
  "language_info": {
   "codemirror_mode": {
    "name": "ipython",
    "version": 3
   },
   "file_extension": ".py",
   "mimetype": "text/x-python",
   "name": "python",
   "nbconvert_exporter": "python",
   "pygments_lexer": "ipython3",
   "version": "3.8.5"
  }
 },
 "nbformat": 4,
 "nbformat_minor": 4
}
